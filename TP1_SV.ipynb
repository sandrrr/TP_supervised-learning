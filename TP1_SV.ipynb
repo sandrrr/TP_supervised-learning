{
 "cells": [
  {
   "cell_type": "markdown",
   "id": "0ee51620",
   "metadata": {},
   "source": [
    "# TP 1 "
   ]
  },
  {
   "cell_type": "markdown",
   "id": "c1b45d19",
   "metadata": {},
   "source": [
    "## Ex1"
   ]
  },
  {
   "cell_type": "code",
   "execution_count": 1,
   "id": "5991fc83",
   "metadata": {},
   "outputs": [],
   "source": [
    "from sklearn.datasets import fetch_openml\n",
    "mnist = fetch_openml('mnist_784', as_frame = False)"
   ]
  },
  {
   "cell_type": "code",
   "execution_count": 2,
   "id": "ddd49655",
   "metadata": {},
   "outputs": [
    {
     "data": {
      "text/plain": [
       "(70000, 784)"
      ]
     },
     "execution_count": 2,
     "metadata": {},
     "output_type": "execute_result"
    }
   ],
   "source": [
    "mnist.data.shape"
   ]
  },
  {
   "cell_type": "code",
   "execution_count": 3,
   "id": "0de7e978",
   "metadata": {},
   "outputs": [
    {
     "data": {
      "text/plain": [
       "(70000,)"
      ]
     },
     "execution_count": 3,
     "metadata": {},
     "output_type": "execute_result"
    }
   ],
   "source": [
    "mnist.target.shape"
   ]
  },
  {
   "cell_type": "code",
   "execution_count": 4,
   "id": "02f2a326",
   "metadata": {},
   "outputs": [
    {
     "data": {
      "text/plain": [
       "array([ 0.,  0.,  0., ...,  0.,  0., 95.])"
      ]
     },
     "execution_count": 4,
     "metadata": {},
     "output_type": "execute_result"
    }
   ],
   "source": [
    "mnist.data[:,100]"
   ]
  },
  {
   "cell_type": "code",
   "execution_count": 5,
   "id": "f460d3a7",
   "metadata": {},
   "outputs": [
    {
     "data": {
      "image/png": "[encoded data removed]",
      "text/plain": [
       "<Figure size 432x288 with 1 Axes>"
      ]
     },
     "metadata": {
      "needs_background": "light"
     },
     "output_type": "display_data"
    }
   ],
   "source": [
    "import matplotlib.pyplot as plt \n",
    "images = mnist.data.reshape((-1, 28, 28)) \n",
    "plt.imshow(images[0],cmap=plt.cm.gray_r,interpolation=\"nearest\") \n",
    "plt.show()"
   ]
  },
  {
   "cell_type": "code",
   "execution_count": 6,
   "id": "151285aa",
   "metadata": {},
   "outputs": [
    {
     "data": {
      "text/plain": [
       "'5'"
      ]
     },
     "execution_count": 6,
     "metadata": {},
     "output_type": "execute_result"
    }
   ],
   "source": [
    "mnist.target[0]"
   ]
  },
  {
   "cell_type": "code",
   "execution_count": 7,
   "id": "4bd03433",
   "metadata": {},
   "outputs": [],
   "source": [
    "from sklearn.model_selection import train_test_split\n",
    "from sklearn import neighbors"
   ]
  },
  {
   "cell_type": "code",
   "execution_count": 8,
   "id": "d81e7d2c",
   "metadata": {},
   "outputs": [],
   "source": [
    "xtrain,  xtest,  ytrain,  ytest  =  train_test_split(mnist.data, mnist.target, \n",
    "train_size=0.7)"
   ]
  },
  {
   "cell_type": "code",
   "execution_count": 9,
   "id": "1c0b0ca2",
   "metadata": {},
   "outputs": [
    {
     "data": {
      "text/plain": [
       "0.9701904761904762"
      ]
     },
     "execution_count": 9,
     "metadata": {},
     "output_type": "execute_result"
    }
   ],
   "source": [
    "clf = neighbors.KNeighborsClassifier(5)\n",
    "clf.fit(xtrain, ytrain)\n",
    "ypred = clf.predict(xtest)\n",
    "clf.predict_proba(xtest)\n",
    "clf.score(xtest, ytest)"
   ]
  },
  {
   "cell_type": "markdown",
   "id": "46219224",
   "metadata": {},
   "source": [
    "## Ex2"
   ]
  },
  {
   "cell_type": "code",
   "execution_count": 10,
   "id": "7621fcb3",
   "metadata": {},
   "outputs": [],
   "source": [
    "import numpy as np\n",
    "from sklearn.model_selection import KFold"
   ]
  },
  {
   "cell_type": "code",
   "execution_count": 11,
   "id": "3e87827a",
   "metadata": {},
   "outputs": [
    {
     "data": {
      "text/plain": [
       "(70000, 784)"
      ]
     },
     "execution_count": 11,
     "metadata": {},
     "output_type": "execute_result"
    }
   ],
   "source": [
    "indices = np.random.randint(70000,size=30000)\n",
    "mnist_5000_data = mnist.data[indices]\n",
    "mnist_5000_target = mnist.target[indices]\n",
    "mnist.data.shape"
   ]
  },
  {
   "cell_type": "code",
   "execution_count": 12,
   "id": "b978d6bf",
   "metadata": {},
   "outputs": [],
   "source": [
    "x_train,  x_test,  y_train,  y_test  =  train_test_split(mnist_5000_data, mnist_5000_target, \n",
    "train_size=0.8)"
   ]
  },
  {
   "cell_type": "code",
   "execution_count": 13,
   "id": "915b3b30",
   "metadata": {},
   "outputs": [
    {
     "name": "stdout",
     "output_type": "stream",
     "text": [
      "score:  0.958\n"
     ]
    },
    {
     "data": {
      "text/plain": [
       "'8'"
      ]
     },
     "execution_count": 13,
     "metadata": {},
     "output_type": "execute_result"
    }
   ],
   "source": [
    "knn_clf = neighbors.KNeighborsClassifier(10)\n",
    "knn_clf.fit(x_train, y_train)\n",
    "y_pred = knn_clf.predict(x_test)\n",
    "knn_clf.predict_proba(x_test)\n",
    "print(\"score: \", knn_clf.score(x_test, y_test))\n",
    "\n",
    "y_pred[3]"
   ]
  },
  {
   "cell_type": "code",
   "execution_count": 14,
   "id": "ab28424c",
   "metadata": {},
   "outputs": [
    {
     "name": "stdout",
     "output_type": "stream",
     "text": [
      "[(2, 0.9675), (3, 0.9693333333333334), (4, 0.9665), (5, 0.9658333333333333), (6, 0.9635), (7, 0.9621666666666666), (8, 0.96), (9, 0.9608333333333333), (10, 0.958), (11, 0.9573333333333334), (12, 0.9561666666666667), (13, 0.956), (14, 0.9551666666666667), (15, 0.9545)]\n"
     ]
    },
    {
     "data": {
      "text/plain": [
       "(3, 0.9693333333333334)"
      ]
     },
     "execution_count": 14,
     "metadata": {},
     "output_type": "execute_result"
    }
   ],
   "source": [
    "scores = []\n",
    "for k in range(2,15+1):\n",
    "    classif = neighbors.KNeighborsClassifier(k)\n",
    "    classif.fit(x_train, y_train)\n",
    "    scores.append((k, classif.score(x_test, y_test)))\n",
    "\n",
    "print(scores)\n",
    "max(scores, key=lambda x: x[1])"
   ]
  },
  {
   "cell_type": "code",
   "execution_count": 15,
   "id": "9101ecbc",
   "metadata": {},
   "outputs": [
    {
     "name": "stdout",
     "output_type": "stream",
     "text": [
      "[(2, 0.9621333333333333), (3, 0.9654), (4, 0.9622333333333334), (5, 0.9621333333333333), (6, 0.9609666666666667), (7, 0.9610666666666667), (8, 0.9596333333333333), (9, 0.9576), (10, 0.958), (11, 0.9576333333333334), (12, 0.9557666666666667), (13, 0.9554333333333334), (14, 0.954), (15, 0.9531666666666666)]\n"
     ]
    },
    {
     "data": {
      "text/plain": [
       "(3, 0.9654)"
      ]
     },
     "execution_count": 15,
     "metadata": {},
     "output_type": "execute_result"
    }
   ],
   "source": [
    "scores = []\n",
    "for k in range(2,15+1):\n",
    "    classif = neighbors.KNeighborsClassifier(k)\n",
    "    \n",
    "    cross_validation_score = []\n",
    "    for train_ind, test_ind in KFold(n_splits=5, shuffle=True).split(mnist_5000_data):\n",
    "        x_train, x_test = mnist_5000_data[train_ind], mnist_5000_data[test_ind]\n",
    "        y_train, y_test = mnist_5000_target[train_ind], mnist_5000_target[test_ind]\n",
    "        \n",
    "        classif.fit(x_train, y_train)\n",
    "        cross_validation_score.append(classif.score(x_test, y_test))\n",
    "    \n",
    "    scores.append((k, np.mean(cross_validation_score)))\n",
    "\n",
    "print(scores)\n",
    "max(scores, key=lambda x: x[1])"
   ]
  },
  {
   "cell_type": "code",
   "execution_count": 16,
   "id": "134677ab",
   "metadata": {},
   "outputs": [
    {
     "name": "stdout",
     "output_type": "stream",
     "text": [
      "[(0.5, 0.9572333333333334), (0.3333333333333333, 0.9619666666666666), (0.25, 0.9646999999999999), (0.2, 0.9653666666666666), (0.16666666666666666, 0.9663999999999998), (0.14285714285714285, 0.9658667018464813), (0.125, 0.9673), (0.1111111111111111, 0.9670000893310687), (0.1, 0.9677666666666667), (0.09090909090909091, 0.9671997747184297), (0.08333333333333333, 0.9678000000000001), (0.07692307692307693, 0.9676000576024918), (0.07142857142857142, 0.9675334902976591), (0.06666666666666667, 0.9681666666666668), (0.0625, 0.9684666666666666), (0.058823529411764705, 0.9682001223530016), (0.05555555555555555, 0.9677998773994703), (0.05263157894736842, 0.9684331181356061), (0.05, 0.968)]\n",
      "best % =  (0.0625, 0.9684666666666666)\n"
     ]
    },
    {
     "data": {
      "image/png": "[encoded data removed]",
      "text/plain": [
       "<Figure size 432x288 with 1 Axes>"
      ]
     },
     "metadata": {
      "needs_background": "light"
     },
     "output_type": "display_data"
    }
   ],
   "source": [
    "scores = []\n",
    "\n",
    "classif = neighbors.KNeighborsClassifier(3)\n",
    "    \n",
    "for n in range(2, 20+1):     \n",
    "    cross_validation_score = []\n",
    "    for train_ind, test_ind in KFold(n_splits=n, shuffle=True).split(mnist_5000_data):\n",
    "        x_train, x_test = mnist_5000_data[train_ind], mnist_5000_data[test_ind]\n",
    "        y_train, y_test = mnist_5000_target[train_ind], mnist_5000_target[test_ind]\n",
    "        \n",
    "        classif.fit(x_train, y_train)\n",
    "        cross_validation_score.append(classif.score(x_test, y_test))\n",
    "    \n",
    "    scores.append((1/n, np.mean(cross_validation_score)))\n",
    "\n",
    "print(scores)\n",
    "print(\"best % = \", max(scores, key=lambda x: x[1]))\n",
    "plt.scatter(list(list(zip(*scores))[0]), list(list(zip(*scores))[1]))\n",
    "plt.show()"
   ]
  },
  {
   "cell_type": "code",
   "execution_count": 17,
   "id": "7722e80b",
   "metadata": {},
   "outputs": [
    {
     "data": {
      "text/plain": [
       "[0.5,\n",
       " 0.3333333333333333,\n",
       " 0.25,\n",
       " 0.2,\n",
       " 0.16666666666666666,\n",
       " 0.14285714285714285,\n",
       " 0.125,\n",
       " 0.1111111111111111,\n",
       " 0.1,\n",
       " 0.09090909090909091,\n",
       " 0.08333333333333333,\n",
       " 0.07692307692307693,\n",
       " 0.07142857142857142,\n",
       " 0.06666666666666667,\n",
       " 0.0625,\n",
       " 0.058823529411764705,\n",
       " 0.05555555555555555,\n",
       " 0.05263157894736842,\n",
       " 0.05]"
      ]
     },
     "execution_count": 17,
     "metadata": {},
     "output_type": "execute_result"
    }
   ],
   "source": [
    "list(list(zip(*scores))[0])"
   ]
  },
  {
   "cell_type": "code",
   "execution_count": 18,
   "id": "cba06658",
   "metadata": {},
   "outputs": [
    {
     "name": "stdout",
     "output_type": "stream",
     "text": [
      "[(0.5, 0.9589333333333333), (0.55, 0.9588148148148148), (0.6, 0.9618333333333333), (0.65, 0.9620952380952381), (0.7, 0.96), (0.75, 0.96), (0.8, 0.9645), (0.85, 0.9693333333333334), (0.8999999999999999, 0.9723425524825058), (0.95, 0.9746666666666667)]\n",
      "best % =  (0.95, 0.9746666666666667)\n"
     ]
    },
    {
     "data": {
      "image/png": "[encoded data removed]",
      "text/plain": [
       "<Figure size 432x288 with 1 Axes>"
      ]
     },
     "metadata": {
      "needs_background": "light"
     },
     "output_type": "display_data"
    }
   ],
   "source": [
    "scores = []\n",
    "\n",
    "classif = neighbors.KNeighborsClassifier(3)\n",
    "    \n",
    "for pct in np.linspace(0.5, 0.95, 10):\n",
    "    x_train,  x_test,  y_train,  y_test  =  train_test_split(mnist_5000_data, mnist_5000_target, train_size=pct)    \n",
    "\n",
    "    classif.fit(x_train, y_train)\n",
    "    scores.append((pct, classif.score(x_test, y_test)))\n",
    "\n",
    "print(scores)\n",
    "print(\"best % = \", max(scores, key=lambda x: x[1]))\n",
    "plt.scatter(list(list(zip(*scores))[0]), list(list(zip(*scores))[1]))\n",
    "plt.show()"
   ]
  },
  {
   "cell_type": "markdown",
   "id": "3cd33084",
   "metadata": {},
   "source": [
    "With more samples, the \"magic\" value seems to converge towards 0.85."
   ]
  },
  {
   "cell_type": "code",
   "execution_count": null,
   "id": "add2bc4c",
   "metadata": {},
   "outputs": [],
   "source": [
    "scores = []\n",
    "x_train,  x_test,  y_train,  y_test  =  train_test_split(mnist_5000_data, mnist_5000_target, train_size=0.85)    \n",
    "\n",
    "for p in range(1, 10):\n",
    "    classif = neighbors.KNeighborsClassifier(3, p=p)\n",
    "\n",
    "    classif.fit(x_train, y_train)\n",
    "    scores.append((p, classif.score(x_test, y_test)))\n",
    "\n",
    "print(scores)\n",
    "print(\"best % = \", max(scores, key=lambda x: x[1]))\n",
    "plt.scatter(list(list(zip(*scores))[0]), list(list(zip(*scores))[1]))\n",
    "plt.show()"
   ]
  },
  {
   "cell_type": "code",
   "execution_count": null,
   "id": "369fc090",
   "metadata": {},
   "outputs": [],
   "source": [
    "import time\n",
    "\n",
    "scores = []\n",
    "x_train,  x_test,  y_train,  y_test  =  train_test_split(mnist_5000_data, mnist_5000_target, train_size=0.85)    \n",
    "\n",
    "classif = neighbors.KNeighborsClassifier(3, p=6, n_jobs=1)\n",
    "\n",
    "start = time.time()\n",
    "classif.fit(x_train, y_train)\n",
    "end = time.time()\n",
    "print(\"score: \", classif.score(x_test, y_test))\n",
    "print(f\"It took me {end-start} seconds to figure that out.\")\n",
    "\n",
    "classif = neighbors.KNeighborsClassifier(3, p=6, n_jobs=-1)\n",
    "\n",
    "start = time.time()\n",
    "classif.fit(x_train, y_train)\n",
    "end = time.time()\n",
    "print(\"score: \", classif.score(x_test, y_test))\n",
    "print(f\"It took me {end-start} seconds to figure that out.\")"
   ]
  },
  {
   "cell_type": "markdown",
   "id": "2ad7795f",
   "metadata": {},
   "source": [
    "above, even though time is (oddly and incorrectly) the same, `n_jobs=1` takes WAAAYYYY longer to run than `n_jobs=-1`, which is what we expect."
   ]
  },
  {
   "cell_type": "markdown",
   "id": "2d11a2fb",
   "metadata": {},
   "source": [
    "**k-NN**\n",
    "\n",
    "optimality: `¯\\_(ツ)_/¯`\n",
    "\n",
    "calc time: `¯\\_(ツ)_/¯`\n",
    "\n",
    "scalability: `¯\\_(ツ)_/¯`"
   ]
  }
 ],
 "metadata": {
  "kernelspec": {
   "display_name": "Python 3",
   "language": "python",
   "name": "python3"
  },
  "language_info": {
   "codemirror_mode": {
    "name": "ipython",
    "version": 3
   },
   "file_extension": ".py",
   "mimetype": "text/x-python",
   "name": "python",
   "nbconvert_exporter": "python",
   "pygments_lexer": "ipython3",
   "version": "3.8.10"
  }
 },
 "nbformat": 4,
 "nbformat_minor": 5
}
