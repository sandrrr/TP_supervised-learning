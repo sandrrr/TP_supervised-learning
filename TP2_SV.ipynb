{
 "cells": [
  {
   "cell_type": "code",
   "execution_count": 20,
   "id": "402de34f",
   "metadata": {},
   "outputs": [],
   "source": [
    "import numpy as np\n",
    "from sklearn.neural_network import MLPClassifier\n",
    "from sklearn.model_selection import train_test_split\n",
    "from sklearn.metrics import precision_score\n",
    "import matplotlib.pyplot as plt"
   ]
  },
  {
   "cell_type": "code",
   "execution_count": 2,
   "id": "98814729",
   "metadata": {},
   "outputs": [],
   "source": [
    "from sklearn.datasets import fetch_openml\n",
    "mnist = fetch_openml('mnist_784', as_frame = False)"
   ]
  },
  {
   "cell_type": "code",
   "execution_count": 3,
   "id": "56a0230a",
   "metadata": {},
   "outputs": [],
   "source": [
    "x_train,  x_test,  y_train,  y_test  =  train_test_split(mnist.data, mnist.target, train_size=0.7)    "
   ]
  },
  {
   "cell_type": "code",
   "execution_count": 21,
   "id": "68d00aa8",
   "metadata": {},
   "outputs": [],
   "source": [
    "indices = np.random.randint(70000,size=5000)\n",
    "mnist_5000_data = mnist.data[indices]\n",
    "mnist_5000_target = mnist.target[indices]"
   ]
  },
  {
   "cell_type": "code",
   "execution_count": 22,
   "id": "b901dca7",
   "metadata": {},
   "outputs": [],
   "source": [
    "x_train, x_test, y_train, y_test = train_test_split(mnist_5000_data, mnist_5000_target, train_size=0.7)"
   ]
  },
  {
   "cell_type": "code",
   "execution_count": 4,
   "id": "68f00ef6",
   "metadata": {},
   "outputs": [
    {
     "name": "stdout",
     "output_type": "stream",
     "text": [
      "0.9496666666666667\n"
     ]
    }
   ],
   "source": [
    "nn = MLPClassifier(hidden_layer_sizes=(50))\n",
    "\n",
    "nn.fit(x_train, y_train)\n",
    "\n",
    "print(nn.score(x_test, y_test))"
   ]
  },
  {
   "cell_type": "code",
   "execution_count": 5,
   "id": "dc83ac36",
   "metadata": {},
   "outputs": [
    {
     "name": "stdout",
     "output_type": "stream",
     "text": [
      "9\n"
     ]
    },
    {
     "data": {
      "text/plain": [
       "array(['9'], dtype='<U1')"
      ]
     },
     "execution_count": 5,
     "metadata": {},
     "output_type": "execute_result"
    }
   ],
   "source": [
    "print(mnist.target[6542])\n",
    "\n",
    "nn.predict(mnist.data[6542].reshape(1, -1))"
   ]
  },
  {
   "cell_type": "code",
   "execution_count": 8,
   "id": "1e7d39b1",
   "metadata": {},
   "outputs": [
    {
     "name": "stdout",
     "output_type": "stream",
     "text": [
      "['3' '7' '6' ... '3' '2' '1']\n",
      "['3' '7' '6' ... '3' '2' '1']\n"
     ]
    },
    {
     "data": {
      "text/plain": [
       "0.9496666666666667"
      ]
     },
     "execution_count": 8,
     "metadata": {},
     "output_type": "execute_result"
    }
   ],
   "source": [
    "y_pred = nn.predict(x_test)\n",
    "print(y_pred)\n",
    "print(y_test)\n",
    "\n",
    "precision_score(y_test, y_pred, average='micro')"
   ]
  },
  {
   "cell_type": "code",
   "execution_count": 24,
   "id": "9b5f9206",
   "metadata": {},
   "outputs": [],
   "source": [
    "(50,) * 5\n",
    "\n",
    "y = []\n",
    "x = []\n",
    "for n in range(1, 100, 4):\n",
    "    hidden_layer_sizes = (50,) * n\n",
    "    nn = MLPClassifier(hidden_layer_sizes=hidden_layer_sizes)\n",
    "    nn.fit(x_train, y_train)\n",
    "    \n",
    "    y_pred = nn.predict(x_test)\n",
    "    y.append(precision_score(y_test, y_pred, average='micro') * 100)\n",
    "    x.append(n)"
   ]
  },
  {
   "cell_type": "code",
   "execution_count": 25,
   "id": "64edcfbe",
   "metadata": {},
   "outputs": [
    {
     "data": {
      "text/plain": [
       "[<matplotlib.lines.Line2D at 0x7f4db98e0e20>]"
      ]
     },
     "execution_count": 25,
     "metadata": {},
     "output_type": "execute_result"
    },
    {
     "data": {
      "image/png": "[encoded data removed]",
      "text/plain": [
       "<Figure size 432x288 with 1 Axes>"
      ]
     },
     "metadata": {
      "needs_background": "light"
     },
     "output_type": "display_data"
    }
   ],
   "source": [
    "plt.plot(x, y)"
   ]
  },
  {
   "cell_type": "code",
   "execution_count": 31,
   "id": "239eb0ad",
   "metadata": {},
   "outputs": [],
   "source": [
    "n_hidden_layers = [2, 4, 6, 8, 10]\n",
    "tuple(np.random.randint(10, 300, 4))\n",
    "\n",
    "x = []\n",
    "y = []\n",
    "nn_models = []\n",
    "for n in n_hidden_layers:\n",
    "    tup = tuple(np.random.randint(10, 300, n))\n",
    "    nn = MLPClassifier(hidden_layer_sizes=tup)\n",
    "    nn.fit(x_train, y_train)\n",
    "    \n",
    "    y_pred = nn.predict(x_test)\n",
    "    y.append(precision_score(y_test, y_pred, average='micro') * 100)\n",
    "    x.append(n)"
   ]
  },
  {
   "cell_type": "code",
   "execution_count": 32,
   "id": "7bb34f26",
   "metadata": {},
   "outputs": [
    {
     "data": {
      "text/plain": [
       "[<matplotlib.lines.Line2D at 0x7f4db84476a0>]"
      ]
     },
     "execution_count": 32,
     "metadata": {},
     "output_type": "execute_result"
    },
    {
     "data": {
      "image/png": "[encoded data removed]",
      "text/plain": [
       "<Figure size 432x288 with 1 Axes>"
      ]
     },
     "metadata": {
      "needs_background": "light"
     },
     "output_type": "display_data"
    }
   ],
   "source": [
    "plt.plot(x, y)"
   ]
  },
  {
   "cell_type": "markdown",
   "id": "f101687d",
   "metadata": {},
   "source": [
    "stopped at **\"Construire cinq modèles de classification ...\"**"
   ]
  }
 ],
 "metadata": {
  "kernelspec": {
   "display_name": "Python 3",
   "language": "python",
   "name": "python3"
  },
  "language_info": {
   "codemirror_mode": {
    "name": "ipython",
    "version": 3
   },
   "file_extension": ".py",
   "mimetype": "text/x-python",
   "name": "python",
   "nbconvert_exporter": "python",
   "pygments_lexer": "ipython3",
   "version": "3.8.10"
  }
 },
 "nbformat": 4,
 "nbformat_minor": 5
}
