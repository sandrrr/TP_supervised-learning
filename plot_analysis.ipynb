{
 "cells": [
  {
   "cell_type": "code",
   "execution_count": 2,
   "metadata": {},
   "outputs": [],
   "source": [
    "from sklearn import metrics\n",
    "import matplotlib.pyplot as plt\n",
    "import matplotlib.gridspec as gs\n",
    "import pandas as pd\n",
    "import seaborn as sn"
   ]
  },
  {
   "cell_type": "code",
   "execution_count": 3,
   "metadata": {},
   "outputs": [],
   "source": [
    "def plot_analysis(title, xlabel, label, duration, expected, actual):\n",
    "    precision = [metrics.precision_score(e, a, average='micro') * 100 for (e, a) in zip(expected, actual)]\n",
    "    recall = [metrics.recall_score(e, a, average='micro') * 100 for (e, a) in zip(expected, actual)]\n",
    "    zero_one_loss = [metrics.zero_one_loss(e, a) * 100 for (e, a) in zip(expected, actual)]\n",
    "    confusion_matrix = [metrics.confusion_matrix(e, a) for (e, a) in zip(expected, actual)]\n",
    "    \n",
    "    plt.plot(label, duration)\n",
    "    plt.title('Duration ' + title)\n",
    "    plt.xlabel(xlabel)\n",
    "    plt.ylabel('Duration (s)')\n",
    "    plt.show()\n",
    "    \n",
    "    plt.plot(label, precision)\n",
    "    plt.title('Precision ' + title)\n",
    "    plt.xlabel(xlabel)\n",
    "    plt.ylabel('Precision (%)')\n",
    "    plt.show()\n",
    "    \n",
    "    plt.plot(label, recall)\n",
    "    plt.title('Recall ' + title)\n",
    "    plt.xlabel(xlabel)\n",
    "    plt.ylabel('Recall (%)')\n",
    "    plt.show()\n",
    "    \n",
    "    plt.plot(label, zero_one_loss)\n",
    "    plt.title('Zero one loss ' + title)\n",
    "    plt.xlabel(xlabel)\n",
    "    plt.ylabel('Zero one loss (%)')\n",
    "    plt.show()\n",
    "    \n",
    "    best_precision = max([(i, precision[i]) for i in range(len(precision))], key=lambda x: x[1])[0]\n",
    "    index_df = range(len(confusion_matrix[0]))\n",
    "    df_confusion_matrix = pd.DataFrame(confusion_matrix[best_precision], index_df, index_df)\n",
    "    sn.heatmap(df_confusion_matrix, annot=True, fmt='d')\n",
    "    "
   ]
  },
  {
   "cell_type": "code",
   "execution_count": null,
   "metadata": {},
   "outputs": [],
   "source": []
  }
 ],
 "metadata": {
  "kernelspec": {
   "display_name": "Python 3",
   "language": "python",
   "name": "python3"
  },
  "language_info": {
   "codemirror_mode": {
    "name": "ipython",
    "version": 3
   },
   "file_extension": ".py",
   "mimetype": "text/x-python",
   "name": "python",
   "nbconvert_exporter": "python",
   "pygments_lexer": "ipython3",
   "version": "3.8.3"
  }
 },
 "nbformat": 4,
 "nbformat_minor": 4
}
